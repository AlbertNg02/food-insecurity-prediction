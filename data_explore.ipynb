{
 "cells": [
  {
   "cell_type": "code",
   "execution_count": 1,
   "metadata": {
    "tags": []
   },
   "outputs": [],
   "source": [
    "import pandas as pd\n",
    "import numpy as np\n",
    "import sklearn"
   ]
  },
  {
   "cell_type": "markdown",
   "metadata": {},
   "source": []
  },
  {
   "cell_type": "code",
   "execution_count": 2,
   "metadata": {
    "tags": []
   },
   "outputs": [],
   "source": [
    "data_food = pd.read_csv(\"DataFood.csv\")\n",
    "data_country = pd.read_csv(\"DataCountry.csv\")"
   ]
  },
  {
   "cell_type": "code",
   "execution_count": 3,
   "metadata": {
    "tags": []
   },
   "outputs": [
    {
     "data": {
      "text/plain": [
       "(25416, 18)"
      ]
     },
     "execution_count": 3,
     "metadata": {},
     "output_type": "execute_result"
    }
   ],
   "source": [
    "data_food.shape"
   ]
  },
  {
   "cell_type": "code",
   "execution_count": 4,
   "metadata": {
    "tags": []
   },
   "outputs": [
    {
     "data": {
      "text/plain": [
       "(214, 12)"
      ]
     },
     "execution_count": 4,
     "metadata": {},
     "output_type": "execute_result"
    }
   ],
   "source": [
    "data_country.shape"
   ]
  },
  {
   "cell_type": "code",
   "execution_count": 5,
   "metadata": {
    "tags": []
   },
   "outputs": [
    {
     "data": {
      "text/html": [
       "<div>\n",
       "<style scoped>\n",
       "    .dataframe tbody tr th:only-of-type {\n",
       "        vertical-align: middle;\n",
       "    }\n",
       "\n",
       "    .dataframe tbody tr th {\n",
       "        vertical-align: top;\n",
       "    }\n",
       "\n",
       "    .dataframe thead th {\n",
       "        text-align: right;\n",
       "    }\n",
       "</style>\n",
       "<table border=\"1\" class=\"dataframe\">\n",
       "  <thead>\n",
       "    <tr style=\"text-align: right;\">\n",
       "      <th></th>\n",
       "      <th>m49_code</th>\n",
       "      <th>country</th>\n",
       "      <th>region</th>\n",
       "      <th>cpc_code</th>\n",
       "      <th>commodity</th>\n",
       "      <th>year</th>\n",
       "      <th>loss_percentage</th>\n",
       "      <th>loss_percentage_original</th>\n",
       "      <th>loss_quantity</th>\n",
       "      <th>activity</th>\n",
       "      <th>food_supply_stage</th>\n",
       "      <th>treatment</th>\n",
       "      <th>cause_of_loss</th>\n",
       "      <th>sample_size</th>\n",
       "      <th>method_data_collection</th>\n",
       "      <th>reference</th>\n",
       "      <th>url</th>\n",
       "      <th>notes</th>\n",
       "    </tr>\n",
       "  </thead>\n",
       "  <tbody>\n",
       "    <tr>\n",
       "      <th>0</th>\n",
       "      <td>104</td>\n",
       "      <td>Myanmar</td>\n",
       "      <td>NaN</td>\n",
       "      <td>23161.02</td>\n",
       "      <td>Rice, milled</td>\n",
       "      <td>2015</td>\n",
       "      <td>1.78</td>\n",
       "      <td>1.78%</td>\n",
       "      <td>26.12kgs</td>\n",
       "      <td>Storage</td>\n",
       "      <td>Storage</td>\n",
       "      <td>30 days storage, with trapping</td>\n",
       "      <td>Rodents</td>\n",
       "      <td>NaN</td>\n",
       "      <td>Controlled Experiment</td>\n",
       "      <td>Dr Steven Belmain (2015), context post-harvest...</td>\n",
       "      <td>NaN</td>\n",
       "      <td>Reference has been generated automatically</td>\n",
       "    </tr>\n",
       "    <tr>\n",
       "      <th>1</th>\n",
       "      <td>104</td>\n",
       "      <td>Myanmar</td>\n",
       "      <td>NaN</td>\n",
       "      <td>23161.02</td>\n",
       "      <td>Rice, milled</td>\n",
       "      <td>2015</td>\n",
       "      <td>11.77</td>\n",
       "      <td>11.77%</td>\n",
       "      <td>88.18kgs</td>\n",
       "      <td>Storage</td>\n",
       "      <td>Storage</td>\n",
       "      <td>60 days storage, no trapping</td>\n",
       "      <td>Rodents</td>\n",
       "      <td>NaN</td>\n",
       "      <td>Controlled Experiment</td>\n",
       "      <td>Dr Steven Belmain (2015), context post-harvest...</td>\n",
       "      <td>NaN</td>\n",
       "      <td>Reference has been generated automatically</td>\n",
       "    </tr>\n",
       "    <tr>\n",
       "      <th>2</th>\n",
       "      <td>104</td>\n",
       "      <td>Myanmar</td>\n",
       "      <td>NaN</td>\n",
       "      <td>23161.02</td>\n",
       "      <td>Rice, milled</td>\n",
       "      <td>2015</td>\n",
       "      <td>5.88</td>\n",
       "      <td>5.88%</td>\n",
       "      <td>44.09kgs</td>\n",
       "      <td>Storage</td>\n",
       "      <td>Storage</td>\n",
       "      <td>30 days storage, no trapping</td>\n",
       "      <td>Rodents</td>\n",
       "      <td>NaN</td>\n",
       "      <td>Controlled Experiment</td>\n",
       "      <td>Dr Steven Belmain (2015), context post-harvest...</td>\n",
       "      <td>NaN</td>\n",
       "      <td>Reference has been generated automatically</td>\n",
       "    </tr>\n",
       "    <tr>\n",
       "      <th>3</th>\n",
       "      <td>104</td>\n",
       "      <td>Myanmar</td>\n",
       "      <td>NaN</td>\n",
       "      <td>23161.02</td>\n",
       "      <td>Rice, milled</td>\n",
       "      <td>2015</td>\n",
       "      <td>3.57</td>\n",
       "      <td>3.57%</td>\n",
       "      <td>52.24kgs</td>\n",
       "      <td>Storage</td>\n",
       "      <td>Storage</td>\n",
       "      <td>60 days storage, with trapping</td>\n",
       "      <td>Rodents</td>\n",
       "      <td>NaN</td>\n",
       "      <td>Controlled Experiment</td>\n",
       "      <td>Dr Steven Belmain (2015), context post-harvest...</td>\n",
       "      <td>NaN</td>\n",
       "      <td>Reference has been generated automatically</td>\n",
       "    </tr>\n",
       "    <tr>\n",
       "      <th>4</th>\n",
       "      <td>104</td>\n",
       "      <td>Myanmar</td>\n",
       "      <td>NaN</td>\n",
       "      <td>23161.02</td>\n",
       "      <td>Rice, milled</td>\n",
       "      <td>2015</td>\n",
       "      <td>17.65</td>\n",
       "      <td>17.65%</td>\n",
       "      <td>132.27kgs</td>\n",
       "      <td>Storage</td>\n",
       "      <td>Storage</td>\n",
       "      <td>90 days storage, no trapping</td>\n",
       "      <td>Rodents</td>\n",
       "      <td>NaN</td>\n",
       "      <td>Controlled Experiment</td>\n",
       "      <td>Dr Steven Belmain (2015), context post-harvest...</td>\n",
       "      <td>NaN</td>\n",
       "      <td>Reference has been generated automatically</td>\n",
       "    </tr>\n",
       "  </tbody>\n",
       "</table>\n",
       "</div>"
      ],
      "text/plain": [
       "   m49_code  country region  cpc_code     commodity  year  loss_percentage  \\\n",
       "0       104  Myanmar    NaN  23161.02  Rice, milled  2015             1.78   \n",
       "1       104  Myanmar    NaN  23161.02  Rice, milled  2015            11.77   \n",
       "2       104  Myanmar    NaN  23161.02  Rice, milled  2015             5.88   \n",
       "3       104  Myanmar    NaN  23161.02  Rice, milled  2015             3.57   \n",
       "4       104  Myanmar    NaN  23161.02  Rice, milled  2015            17.65   \n",
       "\n",
       "  loss_percentage_original loss_quantity activity food_supply_stage  \\\n",
       "0                    1.78%      26.12kgs  Storage           Storage   \n",
       "1                   11.77%      88.18kgs  Storage           Storage   \n",
       "2                    5.88%      44.09kgs  Storage           Storage   \n",
       "3                    3.57%      52.24kgs  Storage           Storage   \n",
       "4                   17.65%     132.27kgs  Storage           Storage   \n",
       "\n",
       "                        treatment cause_of_loss sample_size  \\\n",
       "0  30 days storage, with trapping       Rodents         NaN   \n",
       "1    60 days storage, no trapping       Rodents         NaN   \n",
       "2    30 days storage, no trapping       Rodents         NaN   \n",
       "3  60 days storage, with trapping       Rodents         NaN   \n",
       "4    90 days storage, no trapping       Rodents         NaN   \n",
       "\n",
       "  method_data_collection                                          reference  \\\n",
       "0  Controlled Experiment  Dr Steven Belmain (2015), context post-harvest...   \n",
       "1  Controlled Experiment  Dr Steven Belmain (2015), context post-harvest...   \n",
       "2  Controlled Experiment  Dr Steven Belmain (2015), context post-harvest...   \n",
       "3  Controlled Experiment  Dr Steven Belmain (2015), context post-harvest...   \n",
       "4  Controlled Experiment  Dr Steven Belmain (2015), context post-harvest...   \n",
       "\n",
       "   url                                        notes  \n",
       "0  NaN   Reference has been generated automatically  \n",
       "1  NaN   Reference has been generated automatically  \n",
       "2  NaN   Reference has been generated automatically  \n",
       "3  NaN   Reference has been generated automatically  \n",
       "4  NaN   Reference has been generated automatically  "
      ]
     },
     "execution_count": 5,
     "metadata": {},
     "output_type": "execute_result"
    }
   ],
   "source": [
    "# Before Processing\n",
    "data_food.head()"
   ]
  },
  {
   "cell_type": "code",
   "execution_count": 6,
   "metadata": {
    "tags": []
   },
   "outputs": [],
   "source": [
    "data_food = data_food.drop(columns=['reference', 'url', 'notes','country'])"
   ]
  },
  {
   "cell_type": "code",
   "execution_count": 7,
   "metadata": {
    "tags": []
   },
   "outputs": [
    {
     "data": {
      "text/plain": [
       "m49_code                      int64\n",
       "region                       object\n",
       "cpc_code                     object\n",
       "commodity                    object\n",
       "year                          int64\n",
       "loss_percentage             float64\n",
       "loss_percentage_original     object\n",
       "loss_quantity                object\n",
       "activity                     object\n",
       "food_supply_stage            object\n",
       "treatment                    object\n",
       "cause_of_loss                object\n",
       "sample_size                  object\n",
       "method_data_collection       object\n",
       "dtype: object"
      ]
     },
     "execution_count": 7,
     "metadata": {},
     "output_type": "execute_result"
    }
   ],
   "source": [
    "data_food.dtypes"
   ]
  },
  {
   "cell_type": "code",
   "execution_count": 8,
   "metadata": {
    "tags": []
   },
   "outputs": [
    {
     "data": {
      "text/plain": [
       "(25416, 14)"
      ]
     },
     "execution_count": 8,
     "metadata": {},
     "output_type": "execute_result"
    }
   ],
   "source": [
    "data_food.shape"
   ]
  },
  {
   "cell_type": "code",
   "execution_count": 9,
   "metadata": {
    "tags": []
   },
   "outputs": [
    {
     "data": {
      "text/html": [
       "<div>\n",
       "<style scoped>\n",
       "    .dataframe tbody tr th:only-of-type {\n",
       "        vertical-align: middle;\n",
       "    }\n",
       "\n",
       "    .dataframe tbody tr th {\n",
       "        vertical-align: top;\n",
       "    }\n",
       "\n",
       "    .dataframe thead th {\n",
       "        text-align: right;\n",
       "    }\n",
       "</style>\n",
       "<table border=\"1\" class=\"dataframe\">\n",
       "  <thead>\n",
       "    <tr style=\"text-align: right;\">\n",
       "      <th></th>\n",
       "      <th>Country</th>\n",
       "      <th>combined figures (kg/capita/year)</th>\n",
       "      <th>Household estimate (kg/capita/year)</th>\n",
       "      <th>Household estimate (tonnes/year)</th>\n",
       "      <th>Retail estimate (kg/capita/year)</th>\n",
       "      <th>Retail estimate (tonnes/year)</th>\n",
       "      <th>Food service estimate (kg/capita/year)</th>\n",
       "      <th>Food service estimate (tonnes/year)</th>\n",
       "      <th>Confidence in estimate</th>\n",
       "      <th>M49 code</th>\n",
       "      <th>Region</th>\n",
       "      <th>Source</th>\n",
       "    </tr>\n",
       "  </thead>\n",
       "  <tbody>\n",
       "    <tr>\n",
       "      <th>0</th>\n",
       "      <td>Afghanistan</td>\n",
       "      <td>126</td>\n",
       "      <td>82</td>\n",
       "      <td>3109153</td>\n",
       "      <td>16</td>\n",
       "      <td>594982</td>\n",
       "      <td>28</td>\n",
       "      <td>1051783</td>\n",
       "      <td>Very Low Confidence</td>\n",
       "      <td>4</td>\n",
       "      <td>Southern Asia</td>\n",
       "      <td>https://www.unep.org/resources/report/unep-foo...</td>\n",
       "    </tr>\n",
       "    <tr>\n",
       "      <th>1</th>\n",
       "      <td>Albania</td>\n",
       "      <td>127</td>\n",
       "      <td>83</td>\n",
       "      <td>238492</td>\n",
       "      <td>16</td>\n",
       "      <td>45058</td>\n",
       "      <td>28</td>\n",
       "      <td>79651</td>\n",
       "      <td>Very Low Confidence</td>\n",
       "      <td>8</td>\n",
       "      <td>Southern Europe</td>\n",
       "      <td>https://www.unep.org/resources/report/unep-foo...</td>\n",
       "    </tr>\n",
       "    <tr>\n",
       "      <th>2</th>\n",
       "      <td>Algeria</td>\n",
       "      <td>135</td>\n",
       "      <td>91</td>\n",
       "      <td>3918529</td>\n",
       "      <td>16</td>\n",
       "      <td>673360</td>\n",
       "      <td>28</td>\n",
       "      <td>1190335</td>\n",
       "      <td>Very Low Confidence</td>\n",
       "      <td>12</td>\n",
       "      <td>Northern Africa</td>\n",
       "      <td>https://www.unep.org/resources/report/unep-foo...</td>\n",
       "    </tr>\n",
       "    <tr>\n",
       "      <th>3</th>\n",
       "      <td>Andorra</td>\n",
       "      <td>123</td>\n",
       "      <td>84</td>\n",
       "      <td>6497</td>\n",
       "      <td>13</td>\n",
       "      <td>988</td>\n",
       "      <td>26</td>\n",
       "      <td>1971</td>\n",
       "      <td>Low Confidence</td>\n",
       "      <td>20</td>\n",
       "      <td>Southern Europe</td>\n",
       "      <td>https://www.unep.org/resources/report/unep-foo...</td>\n",
       "    </tr>\n",
       "    <tr>\n",
       "      <th>4</th>\n",
       "      <td>Angola</td>\n",
       "      <td>144</td>\n",
       "      <td>100</td>\n",
       "      <td>3169523</td>\n",
       "      <td>16</td>\n",
       "      <td>497755</td>\n",
       "      <td>28</td>\n",
       "      <td>879908</td>\n",
       "      <td>Very Low Confidence</td>\n",
       "      <td>24</td>\n",
       "      <td>Sub-Saharan Africa</td>\n",
       "      <td>https://www.unep.org/resources/report/unep-foo...</td>\n",
       "    </tr>\n",
       "  </tbody>\n",
       "</table>\n",
       "</div>"
      ],
      "text/plain": [
       "       Country  combined figures (kg/capita/year)  \\\n",
       "0  Afghanistan                                126   \n",
       "1      Albania                                127   \n",
       "2      Algeria                                135   \n",
       "3      Andorra                                123   \n",
       "4       Angola                                144   \n",
       "\n",
       "   Household estimate (kg/capita/year)  Household estimate (tonnes/year)  \\\n",
       "0                                   82                           3109153   \n",
       "1                                   83                            238492   \n",
       "2                                   91                           3918529   \n",
       "3                                   84                              6497   \n",
       "4                                  100                           3169523   \n",
       "\n",
       "   Retail estimate (kg/capita/year)  Retail estimate (tonnes/year)  \\\n",
       "0                                16                         594982   \n",
       "1                                16                          45058   \n",
       "2                                16                         673360   \n",
       "3                                13                            988   \n",
       "4                                16                         497755   \n",
       "\n",
       "   Food service estimate (kg/capita/year)  \\\n",
       "0                                      28   \n",
       "1                                      28   \n",
       "2                                      28   \n",
       "3                                      26   \n",
       "4                                      28   \n",
       "\n",
       "   Food service estimate (tonnes/year) Confidence in estimate  M49 code  \\\n",
       "0                              1051783    Very Low Confidence         4   \n",
       "1                                79651    Very Low Confidence         8   \n",
       "2                              1190335    Very Low Confidence        12   \n",
       "3                                 1971         Low Confidence        20   \n",
       "4                               879908    Very Low Confidence        24   \n",
       "\n",
       "               Region                                             Source  \n",
       "0       Southern Asia  https://www.unep.org/resources/report/unep-foo...  \n",
       "1     Southern Europe  https://www.unep.org/resources/report/unep-foo...  \n",
       "2     Northern Africa  https://www.unep.org/resources/report/unep-foo...  \n",
       "3     Southern Europe  https://www.unep.org/resources/report/unep-foo...  \n",
       "4  Sub-Saharan Africa  https://www.unep.org/resources/report/unep-foo...  "
      ]
     },
     "execution_count": 9,
     "metadata": {},
     "output_type": "execute_result"
    }
   ],
   "source": [
    "# Before Processing\n",
    "data_country.head()"
   ]
  },
  {
   "cell_type": "code",
   "execution_count": 10,
   "metadata": {
    "tags": []
   },
   "outputs": [],
   "source": [
    "data_country = data_country.drop(columns=['Source', 'Household estimate (kg/capita/year)','Retail estimate (kg/capita/year)','Food service estimate (kg/capita/year)'])\n",
    "data_country['combined figures (tonnes/year)'] = data_country['Household estimate (tonnes/year)'] + data_country['Retail estimate (tonnes/year)'] + data_country['Food service estimate (tonnes/year)'] \n",
    "data_country = data_country.drop(columns=['Household estimate (tonnes/year)', 'Retail estimate (tonnes/year)', 'Food service estimate (tonnes/year)'])\n",
    "data_country = data_country.rename(columns={\"M49 code\":\"m49_code\", \n",
    "                                            \"combined figures (kg/capita/year)\":\"total_kg/capita/year\", \n",
    "                                            \"Confidence in estimate\": \"conf_in_estimate\"\n",
    "\n",
    "                                            })\n"
   ]
  },
  {
   "cell_type": "code",
   "execution_count": 11,
   "metadata": {
    "tags": []
   },
   "outputs": [
    {
     "data": {
      "text/html": [
       "<div>\n",
       "<style scoped>\n",
       "    .dataframe tbody tr th:only-of-type {\n",
       "        vertical-align: middle;\n",
       "    }\n",
       "\n",
       "    .dataframe tbody tr th {\n",
       "        vertical-align: top;\n",
       "    }\n",
       "\n",
       "    .dataframe thead th {\n",
       "        text-align: right;\n",
       "    }\n",
       "</style>\n",
       "<table border=\"1\" class=\"dataframe\">\n",
       "  <thead>\n",
       "    <tr style=\"text-align: right;\">\n",
       "      <th></th>\n",
       "      <th>Country</th>\n",
       "      <th>total_kg/capita/year</th>\n",
       "      <th>conf_in_estimate</th>\n",
       "      <th>m49_code</th>\n",
       "      <th>Region</th>\n",
       "      <th>combined figures (tonnes/year)</th>\n",
       "    </tr>\n",
       "  </thead>\n",
       "  <tbody>\n",
       "    <tr>\n",
       "      <th>0</th>\n",
       "      <td>Afghanistan</td>\n",
       "      <td>126</td>\n",
       "      <td>Very Low Confidence</td>\n",
       "      <td>4</td>\n",
       "      <td>Southern Asia</td>\n",
       "      <td>4755918</td>\n",
       "    </tr>\n",
       "    <tr>\n",
       "      <th>1</th>\n",
       "      <td>Albania</td>\n",
       "      <td>127</td>\n",
       "      <td>Very Low Confidence</td>\n",
       "      <td>8</td>\n",
       "      <td>Southern Europe</td>\n",
       "      <td>363201</td>\n",
       "    </tr>\n",
       "    <tr>\n",
       "      <th>2</th>\n",
       "      <td>Algeria</td>\n",
       "      <td>135</td>\n",
       "      <td>Very Low Confidence</td>\n",
       "      <td>12</td>\n",
       "      <td>Northern Africa</td>\n",
       "      <td>5782224</td>\n",
       "    </tr>\n",
       "    <tr>\n",
       "      <th>3</th>\n",
       "      <td>Andorra</td>\n",
       "      <td>123</td>\n",
       "      <td>Low Confidence</td>\n",
       "      <td>20</td>\n",
       "      <td>Southern Europe</td>\n",
       "      <td>9456</td>\n",
       "    </tr>\n",
       "    <tr>\n",
       "      <th>4</th>\n",
       "      <td>Angola</td>\n",
       "      <td>144</td>\n",
       "      <td>Very Low Confidence</td>\n",
       "      <td>24</td>\n",
       "      <td>Sub-Saharan Africa</td>\n",
       "      <td>4547186</td>\n",
       "    </tr>\n",
       "  </tbody>\n",
       "</table>\n",
       "</div>"
      ],
      "text/plain": [
       "       Country  total_kg/capita/year     conf_in_estimate  m49_code  \\\n",
       "0  Afghanistan                   126  Very Low Confidence         4   \n",
       "1      Albania                   127  Very Low Confidence         8   \n",
       "2      Algeria                   135  Very Low Confidence        12   \n",
       "3      Andorra                   123       Low Confidence        20   \n",
       "4       Angola                   144  Very Low Confidence        24   \n",
       "\n",
       "               Region  combined figures (tonnes/year)  \n",
       "0       Southern Asia                         4755918  \n",
       "1     Southern Europe                          363201  \n",
       "2     Northern Africa                         5782224  \n",
       "3     Southern Europe                            9456  \n",
       "4  Sub-Saharan Africa                         4547186  "
      ]
     },
     "execution_count": 11,
     "metadata": {},
     "output_type": "execute_result"
    }
   ],
   "source": [
    "data_country.head()"
   ]
  },
  {
   "cell_type": "code",
   "execution_count": 12,
   "metadata": {
    "tags": []
   },
   "outputs": [
    {
     "data": {
      "text/plain": [
       "Country                           object\n",
       "total_kg/capita/year               int64\n",
       "conf_in_estimate                  object\n",
       "m49_code                           int64\n",
       "Region                            object\n",
       "combined figures (tonnes/year)     int64\n",
       "dtype: object"
      ]
     },
     "execution_count": 12,
     "metadata": {},
     "output_type": "execute_result"
    }
   ],
   "source": [
    "data_country.dtypes"
   ]
  },
  {
   "cell_type": "code",
   "execution_count": 13,
   "metadata": {
    "tags": []
   },
   "outputs": [],
   "source": [
    "# Merged data\n",
    "data_food_country = pd.merge(data_food,data_country, on='m49_code')\n",
    "data_food_country = data_food_country.drop(columns=['m49_code','sample_size','region','cause_of_loss','treatment','activity','method_data_collection','total_kg/capita/year','loss_quantity', 'Country'])\n",
    "data_food_country = data_food_country.dropna(subset=['food_supply_stage'])"
   ]
  },
  {
   "cell_type": "code",
   "execution_count": 14,
   "metadata": {
    "tags": []
   },
   "outputs": [
    {
     "data": {
      "text/html": [
       "<div>\n",
       "<style scoped>\n",
       "    .dataframe tbody tr th:only-of-type {\n",
       "        vertical-align: middle;\n",
       "    }\n",
       "\n",
       "    .dataframe tbody tr th {\n",
       "        vertical-align: top;\n",
       "    }\n",
       "\n",
       "    .dataframe thead th {\n",
       "        text-align: right;\n",
       "    }\n",
       "</style>\n",
       "<table border=\"1\" class=\"dataframe\">\n",
       "  <thead>\n",
       "    <tr style=\"text-align: right;\">\n",
       "      <th></th>\n",
       "      <th>cpc_code</th>\n",
       "      <th>commodity</th>\n",
       "      <th>year</th>\n",
       "      <th>loss_percentage</th>\n",
       "      <th>loss_percentage_original</th>\n",
       "      <th>food_supply_stage</th>\n",
       "      <th>conf_in_estimate</th>\n",
       "      <th>Region</th>\n",
       "      <th>combined figures (tonnes/year)</th>\n",
       "    </tr>\n",
       "  </thead>\n",
       "  <tbody>\n",
       "    <tr>\n",
       "      <th>0</th>\n",
       "      <td>23161.02</td>\n",
       "      <td>Rice, milled</td>\n",
       "      <td>2015</td>\n",
       "      <td>1.78</td>\n",
       "      <td>1.78%</td>\n",
       "      <td>Storage</td>\n",
       "      <td>Very Low Confidence</td>\n",
       "      <td>South-eastern Asia</td>\n",
       "      <td>7005658</td>\n",
       "    </tr>\n",
       "    <tr>\n",
       "      <th>1</th>\n",
       "      <td>23161.02</td>\n",
       "      <td>Rice, milled</td>\n",
       "      <td>2015</td>\n",
       "      <td>11.77</td>\n",
       "      <td>11.77%</td>\n",
       "      <td>Storage</td>\n",
       "      <td>Very Low Confidence</td>\n",
       "      <td>South-eastern Asia</td>\n",
       "      <td>7005658</td>\n",
       "    </tr>\n",
       "    <tr>\n",
       "      <th>2</th>\n",
       "      <td>23161.02</td>\n",
       "      <td>Rice, milled</td>\n",
       "      <td>2015</td>\n",
       "      <td>5.88</td>\n",
       "      <td>5.88%</td>\n",
       "      <td>Storage</td>\n",
       "      <td>Very Low Confidence</td>\n",
       "      <td>South-eastern Asia</td>\n",
       "      <td>7005658</td>\n",
       "    </tr>\n",
       "    <tr>\n",
       "      <th>3</th>\n",
       "      <td>23161.02</td>\n",
       "      <td>Rice, milled</td>\n",
       "      <td>2015</td>\n",
       "      <td>3.57</td>\n",
       "      <td>3.57%</td>\n",
       "      <td>Storage</td>\n",
       "      <td>Very Low Confidence</td>\n",
       "      <td>South-eastern Asia</td>\n",
       "      <td>7005658</td>\n",
       "    </tr>\n",
       "    <tr>\n",
       "      <th>4</th>\n",
       "      <td>23161.02</td>\n",
       "      <td>Rice, milled</td>\n",
       "      <td>2015</td>\n",
       "      <td>17.65</td>\n",
       "      <td>17.65%</td>\n",
       "      <td>Storage</td>\n",
       "      <td>Very Low Confidence</td>\n",
       "      <td>South-eastern Asia</td>\n",
       "      <td>7005658</td>\n",
       "    </tr>\n",
       "  </tbody>\n",
       "</table>\n",
       "</div>"
      ],
      "text/plain": [
       "   cpc_code     commodity  year  loss_percentage loss_percentage_original  \\\n",
       "0  23161.02  Rice, milled  2015             1.78                    1.78%   \n",
       "1  23161.02  Rice, milled  2015            11.77                   11.77%   \n",
       "2  23161.02  Rice, milled  2015             5.88                    5.88%   \n",
       "3  23161.02  Rice, milled  2015             3.57                    3.57%   \n",
       "4  23161.02  Rice, milled  2015            17.65                   17.65%   \n",
       "\n",
       "  food_supply_stage     conf_in_estimate              Region  \\\n",
       "0           Storage  Very Low Confidence  South-eastern Asia   \n",
       "1           Storage  Very Low Confidence  South-eastern Asia   \n",
       "2           Storage  Very Low Confidence  South-eastern Asia   \n",
       "3           Storage  Very Low Confidence  South-eastern Asia   \n",
       "4           Storage  Very Low Confidence  South-eastern Asia   \n",
       "\n",
       "   combined figures (tonnes/year)  \n",
       "0                         7005658  \n",
       "1                         7005658  \n",
       "2                         7005658  \n",
       "3                         7005658  \n",
       "4                         7005658  "
      ]
     },
     "execution_count": 14,
     "metadata": {},
     "output_type": "execute_result"
    }
   ],
   "source": [
    "data_food_country.head()"
   ]
  },
  {
   "cell_type": "code",
   "execution_count": 15,
   "metadata": {
    "tags": []
   },
   "outputs": [
    {
     "data": {
      "text/plain": [
       "(21956, 9)"
      ]
     },
     "execution_count": 15,
     "metadata": {},
     "output_type": "execute_result"
    }
   ],
   "source": [
    "data_food_country.shape"
   ]
  },
  {
   "cell_type": "code",
   "execution_count": 16,
   "metadata": {
    "tags": []
   },
   "outputs": [],
   "source": [
    "data_food_country = data_food_country.rename(columns={\"Region\":\"region\"})\n"
   ]
  },
  {
   "cell_type": "code",
   "execution_count": 17,
   "metadata": {
    "tags": []
   },
   "outputs": [
    {
     "data": {
      "text/plain": [
       "(21956, 9)"
      ]
     },
     "execution_count": 17,
     "metadata": {},
     "output_type": "execute_result"
    }
   ],
   "source": [
    "# Some data were lost because rows do not match\n",
    "data_food_country.shape"
   ]
  },
  {
   "cell_type": "code",
   "execution_count": 18,
   "metadata": {
    "tags": []
   },
   "outputs": [
    {
     "name": "stdout",
     "output_type": "stream",
     "text": [
      "Empty DataFrame\n",
      "Columns: []\n",
      "Index: [0, 1, 2, 3, 4, 5, 6, 7, 9, 10, 12, 13, 14, 15, 16, 17, 18, 20, 21, 22, 25, 26, 27, 28, 30, 31, 32, 33, 34, 35, 36, 38, 39, 40, 41, 44, 45, 46, 47, 49, 50, 51, 53, 54, 55, 56, 58, 59, 60, 61, 62, 63, 64, 66, 67, 69, 70, 71, 72, 73, 75, 76, 77, 79, 80, 82, 83, 84, 86, 87, 88, 89, 90, 92, 93, 94, 96, 97, 98, 99, 101, 102, 103, 105, 106, 108, 109, 110, 111, 112, 113, 115, 116, 117, 119, 120, 121, 123, 124, 125, ...]\n",
      "\n",
      "[21956 rows x 0 columns]\n"
     ]
    }
   ],
   "source": [
    "print(data_food_country.loc[:, data_food_country.isnull().any()])"
   ]
  },
  {
   "cell_type": "code",
   "execution_count": null,
   "metadata": {},
   "outputs": [],
   "source": []
  },
  {
   "cell_type": "code",
   "execution_count": 28,
   "metadata": {
    "tags": []
   },
   "outputs": [],
   "source": [
    "from sklearn.datasets import load_iris\n",
    "from sklearn.model_selection import train_test_split\n",
    "from sklearn.metrics import accuracy_score\n",
    "from sklearn.pipeline import Pipeline\n",
    "from sklearn.pipeline import make_pipeline\n",
    "from sklearn.preprocessing import OneHotEncoder, StandardScaler\n",
    "from sklearn.compose import ColumnTransformer\n",
    "from sklearn.compose import make_column_selector as selector\n",
    "from sklearn.impute import SimpleImputer\n",
    "import matplotlib.pyplot as plt\n",
    "import seaborn as sns\n",
    "import numpy as np\n",
    "from scipy.special import expit"
   ]
  },
  {
   "cell_type": "code",
   "execution_count": 20,
   "metadata": {
    "tags": []
   },
   "outputs": [],
   "source": [
    "target_name = 'food_supply_stage'\n",
    "target = data_food_country[target_name]\n",
    "data = data_food_country.drop(columns=[target_name])\n",
    "\n",
    "\n",
    "\n",
    "\n",
    "numerical_columns_selector = selector(dtype_exclude=object)\n",
    "categorical_columns_selector = selector(dtype_include=object)\n",
    "\n",
    "numerical_columns = numerical_columns_selector(data)\n",
    "categorical_columns = categorical_columns_selector(data)\n",
    "\n",
    "\n",
    "\n",
    "categorical_preprocessor = OneHotEncoder(handle_unknown=\"ignore\")\n",
    "numerical_preprocessor = StandardScaler()\n",
    "\n",
    "preprocessor = ColumnTransformer(\n",
    "    [\n",
    "        (\"one-hot-encoder\", categorical_preprocessor, categorical_columns),\n",
    "        (\"standard_scaler\", numerical_preprocessor, numerical_columns),\n",
    "    ]\n",
    ")\n",
    "\n"
   ]
  },
  {
   "cell_type": "code",
   "execution_count": 21,
   "metadata": {
    "tags": []
   },
   "outputs": [
    {
     "data": {
      "text/plain": [
       "['year', 'loss_percentage', 'combined figures (tonnes/year)']"
      ]
     },
     "execution_count": 21,
     "metadata": {},
     "output_type": "execute_result"
    }
   ],
   "source": [
    "\n",
    "numerical_columns"
   ]
  },
  {
   "cell_type": "code",
   "execution_count": 22,
   "metadata": {
    "tags": []
   },
   "outputs": [
    {
     "data": {
      "text/plain": [
       "['cpc_code',\n",
       " 'commodity',\n",
       " 'loss_percentage_original',\n",
       " 'conf_in_estimate',\n",
       " 'region']"
      ]
     },
     "execution_count": 22,
     "metadata": {},
     "output_type": "execute_result"
    }
   ],
   "source": [
    "\n",
    "categorical_columns\n"
   ]
  },
  {
   "cell_type": "code",
   "execution_count": 23,
   "metadata": {
    "tags": []
   },
   "outputs": [
    {
     "data": {
      "text/plain": [
       "0.8172709054472581"
      ]
     },
     "execution_count": 23,
     "metadata": {},
     "output_type": "execute_result"
    }
   ],
   "source": [
    "from sklearn.linear_model import LogisticRegression\n",
    "\n",
    "data_train, data_test, target_train, target_test = train_test_split(\n",
    "    data, target, random_state=42\n",
    ")\n",
    "model = make_pipeline(preprocessor, LogisticRegression(max_iter=500))\n",
    "_ = model.fit(data_train, target_train)\n",
    "model.score(data_test, target_test)"
   ]
  },
  {
   "cell_type": "code",
   "execution_count": 34,
   "metadata": {
    "tags": []
   },
   "outputs": [
    {
     "data": {
      "image/png": "[encoded data removed]",
      "text/plain": [
       "<Figure size 400x300 with 1 Axes>"
      ]
     },
     "metadata": {},
     "output_type": "display_data"
    }
   ],
   "source": [
    "# Generate data for plotting logistic regression curve\n",
    "\n",
    "xmin, xmax = -10, 10\n",
    "n_samples = 1000\n",
    "np.random.seed(0)\n",
    "X = np.random.normal(size=n_samples)\n",
    "y = (X > 0).astype(float)\n",
    "X[X > 0] *= 4\n",
    "X += 0.3 * np.random.normal(size=n_samples)\n",
    "\n",
    "X = X[:, np.newaxis]\n",
    "\n",
    "# Fit the classifier\n",
    "clf = LogisticRegression(C=1e5)\n",
    "clf.fit(X, y)\n",
    "\n",
    "# and plot the result\n",
    "plt.figure(1, figsize=(4, 3))\n",
    "plt.clf()\n",
    "plt.scatter(X.ravel(), y, label=\"example data\", color=\"black\", zorder=20)\n",
    "X_test = np.linspace(-5, 10, 300)\n",
    "\n",
    "loss = expit(X_test * clf.coef_ + clf.intercept_).ravel()\n",
    "plt.plot(X_test, loss, label=\"Logistic Regression Model\", color=\"red\", linewidth=3)\n",
    "\n",
    "\n",
    "plt.axhline(0.5, color=\".5\")\n",
    "\n",
    "plt.ylabel(\"y\")\n",
    "plt.xlabel(\"X\")\n",
    "plt.xticks(range(-5, 10))\n",
    "plt.yticks([0, 0.5, 1])\n",
    "plt.ylim(-0.25, 1.25)\n",
    "plt.xlim(-4, 10)\n",
    "plt.legend(\n",
    "    loc=\"lower right\",\n",
    "    fontsize=\"small\",\n",
    ")\n",
    "plt.tight_layout()\n",
    "plt.show()"
   ]
  },
  {
   "cell_type": "code",
   "execution_count": 44,
   "metadata": {
    "tags": []
   },
   "outputs": [
    {
     "data": {
      "text/plain": [
       "0.44306795408999816"
      ]
     },
     "execution_count": 44,
     "metadata": {},
     "output_type": "execute_result"
    }
   ],
   "source": [
    "\n",
    "from sklearn.ensemble import RandomForestClassifier\n",
    "\n",
    "model = make_pipeline(preprocessor, RandomForestClassifier(max_depth=2, random_state=0))\n",
    "_ = model.fit(data_train, target_train)\n",
    "model.score(data_test, target_test)\n",
    "\n"
   ]
  },
  {
   "cell_type": "code",
   "execution_count": null,
   "metadata": {},
   "outputs": [],
   "source": []
  },
  {
   "cell_type": "code",
   "execution_count": null,
   "metadata": {
    "tags": []
   },
   "outputs": [],
   "source": [
    "from sklearn.ensemble import GradientBoostingClassifier\n",
    "model = make_pipeline(preprocessor,GradientBoostingClassifier(n_estimators=100, learning_rate=1.0, max_depth=1, random_state=0) )\n",
    "_ = model.fit(data_train, target_train)\n",
    "model.score(data_test, target_test)\n",
    "\n"
   ]
  },
  {
   "cell_type": "code",
   "execution_count": null,
   "metadata": {},
   "outputs": [],
   "source": []
  },
  {
   "cell_type": "code",
   "execution_count": 35,
   "metadata": {
    "tags": []
   },
   "outputs": [
    {
     "data": {
      "text/plain": [
       "0.8354891601384588"
      ]
     },
     "execution_count": 35,
     "metadata": {},
     "output_type": "execute_result"
    }
   ],
   "source": [
    "from sklearn.neighbors import KNeighborsClassifier\n",
    "model = make_pipeline(preprocessor, KNeighborsClassifier(n_neighbors=3))\n",
    "_ = model.fit(data_train, target_train)\n",
    "model.predict(data_test)\n",
    "model.score(data_test, target_test)"
   ]
  },
  {
   "cell_type": "code",
   "execution_count": 47,
   "metadata": {},
   "outputs": [
    {
     "data": {
      "image/png": "[encoded data removed]",
      "text/plain": [
       "<Figure size 640x480 with 1 Axes>"
      ]
     },
     "metadata": {},
     "output_type": "display_data"
    }
   ],
   "source": [
    "neighbors = np.arange(1,20)\n",
    "train_accuracy = np.empty(len(neighbors)) \n",
    "test_accuracy = np.empty(len(neighbors)) \n",
    "\n",
    "# Loop over K values \n",
    "for i, k in enumerate(neighbors): \n",
    "    model = make_pipeline(preprocessor, KNeighborsClassifier(k))\n",
    "    _ = model.fit(data_train, target_train)\n",
    "    model.predict(data_test)\n",
    "    train_accuracy[i] = model.score(data_train, target_train)\n",
    "    test_accuracy[i] = model.score(data_test, target_test)\n",
    "      \n",
    "    # Compute training and test data accuracy \n",
    "    #train_accuracy[i] = knn.score(data_train, target_train) \n",
    "    #test_accuracy[i] = knn.score(data_test, target_test) \n",
    "\n",
    "# Generate plot \n",
    "plt.plot(neighbors, test_accuracy, label = 'Testing dataset Accuracy') \n",
    "plt.plot(neighbors, train_accuracy, label = 'Training dataset Accuracy') \n",
    "  \n",
    "plt.legend() \n",
    "plt.xlabel('n_neighbors') \n",
    "plt.ylabel('Accuracy') \n",
    "plt.show() "
   ]
  },
  {
   "cell_type": "code",
   "execution_count": null,
   "metadata": {},
   "outputs": [],
   "source": []
  },
  {
   "cell_type": "code",
   "execution_count": null,
   "metadata": {},
   "outputs": [],
   "source": []
  }
 ],
 "metadata": {
  "kernelspec": {
   "display_name": "Python 3 (ipykernel)",
   "language": "python",
   "name": "python3"
  },
  "language_info": {
   "codemirror_mode": {
    "name": "ipython",
    "version": 3
   },
   "file_extension": ".py",
   "mimetype": "text/x-python",
   "name": "python",
   "nbconvert_exporter": "python",
   "pygments_lexer": "ipython3",
   "version": "3.11.5"
  }
 },
 "nbformat": 4,
 "nbformat_minor": 4
}
